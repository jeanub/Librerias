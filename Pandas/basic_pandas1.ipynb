{
 "cells": [
  {
   "cell_type": "markdown",
   "metadata": {},
   "source": [
    "COMANDOS BASICO PANDAS:"
   ]
  },
  {
   "cell_type": "code",
   "execution_count": 14,
   "metadata": {},
   "outputs": [],
   "source": [
    "import pandas as pd"
   ]
  },
  {
   "cell_type": "markdown",
   "metadata": {},
   "source": [
    "Creacion de DataFrame:"
   ]
  },
  {
   "cell_type": "markdown",
   "metadata": {},
   "source": [
    "pd.DataFrame(): Crea un DataFrame a partir de una lista o diccionario."
   ]
  },
  {
   "cell_type": "code",
   "execution_count": 15,
   "metadata": {},
   "outputs": [
    {
     "name": "stdout",
     "output_type": "stream",
     "text": [
      "  Nombre  Edad\n",
      "0    Ana    23\n",
      "1   Juan    25\n",
      "2   Jean    23\n"
     ]
    }
   ],
   "source": [
    "data = {'Nombre':['Ana', 'Juan','Jean'],\n",
    "        'Edad':[23,25,23]}\n",
    "df = pd.DataFrame(data)\n",
    "print(df)"
   ]
  },
  {
   "cell_type": "markdown",
   "metadata": {},
   "source": [
    "pd.read_csv(): Lee un archivo CSV y lo convierte en un DataFrame."
   ]
  },
  {
   "cell_type": "code",
   "execution_count": 16,
   "metadata": {},
   "outputs": [
    {
     "name": "stdout",
     "output_type": "stream",
     "text": [
      "            Marca              Modelo   Año\n",
      "0             BMW             Serie 3  2003\n",
      "1             BMW                  X5  2024\n",
      "2             BMW                  M4  2018\n",
      "3             BMW                  i4  2015\n",
      "4             BMW  M3 Competition G80  2001\n",
      "5   Mercedes-Benz             Clase C  1980\n",
      "6   Mercedes-Benz             Clase E  1990\n",
      "7   Mercedes-Benz              AMG GT  2013\n",
      "8   Mercedes-Benz             Clase S  2016\n",
      "9   Mercedes-Benz                 GLE  2015\n",
      "10           Audi                  A4  2014\n",
      "11           Audi                  Q5  2013\n",
      "12           Audi                 RS6  2012\n",
      "13           Audi              e-tron  2010\n",
      "14           Audi                  TT  2011\n",
      "15        Porsche                 911  2004\n",
      "16        Porsche             Cayenne  2006\n",
      "17        Porsche              Taycan  2007\n",
      "18        Porsche               Macan  2008\n"
     ]
    }
   ],
   "source": [
    "df_csv = pd.read_csv('marcas.csv')\n",
    "print(df_csv)"
   ]
  },
  {
   "cell_type": "markdown",
   "metadata": {},
   "source": [
    "pd.read_excel(): Lee un archivo Excel y lo convierte en un DataFrame."
   ]
  },
  {
   "cell_type": "code",
   "execution_count": 17,
   "metadata": {},
   "outputs": [
    {
     "name": "stdout",
     "output_type": "stream",
     "text": [
      "          Marca       Modelo\n",
      "0           BMW          M3 \n",
      "1           BMW           M4\n",
      "2           BMW           M5\n",
      "3           BMW           M7\n",
      "4           BMW           M8\n",
      "5      Maserati      Folgore\n",
      "6      Maserati  GranTurismo\n",
      "7      Maserati       Ghibli\n",
      "8   Lamborguini       Veneno\n",
      "9   Lamborguini   Aventador \n",
      "10       Dodger    ForCharge\n"
     ]
    }
   ],
   "source": [
    "df_excel = pd.read_excel('marcass.xlsx')\n",
    "print(df_excel)"
   ]
  },
  {
   "cell_type": "markdown",
   "metadata": {},
   "source": [
    "Operacion Basicas:"
   ]
  },
  {
   "cell_type": "markdown",
   "metadata": {},
   "source": [
    "df.head(): Muestra las primeras filas del DataFrame."
   ]
  },
  {
   "cell_type": "code",
   "execution_count": 18,
   "metadata": {},
   "outputs": [
    {
     "name": "stdout",
     "output_type": "stream",
     "text": [
      "Primera Fila:\n",
      "  Marca              Modelo   Año\n",
      "0   BMW             Serie 3  2003\n",
      "1   BMW                  X5  2024\n",
      "2   BMW                  M4  2018\n",
      "3   BMW                  i4  2015\n",
      "4   BMW  M3 Competition G80  2001\n"
     ]
    }
   ],
   "source": [
    "print(f'Primera Fila:\\n{df_csv.head()}')"
   ]
  },
  {
   "cell_type": "markdown",
   "metadata": {},
   "source": [
    "df.tail(): Muestra las últimas filas del DataFrame."
   ]
  },
  {
   "cell_type": "code",
   "execution_count": 19,
   "metadata": {},
   "outputs": [
    {
     "name": "stdout",
     "output_type": "stream",
     "text": [
      "Ultimas Fila:\n",
      "      Marca   Modelo   Año\n",
      "14     Audi       TT  2011\n",
      "15  Porsche      911  2004\n",
      "16  Porsche  Cayenne  2006\n",
      "17  Porsche   Taycan  2007\n",
      "18  Porsche    Macan  2008\n"
     ]
    }
   ],
   "source": [
    "print(f'Ultimas Fila:\\n{df_csv.tail()}')"
   ]
  },
  {
   "cell_type": "markdown",
   "metadata": {},
   "source": [
    "df.info(): Muestra información sobre el DataFrame."
   ]
  },
  {
   "cell_type": "code",
   "execution_count": 20,
   "metadata": {},
   "outputs": [
    {
     "name": "stdout",
     "output_type": "stream",
     "text": [
      "<class 'pandas.core.frame.DataFrame'>\n",
      "RangeIndex: 19 entries, 0 to 18\n",
      "Data columns (total 3 columns):\n",
      " #   Column  Non-Null Count  Dtype \n",
      "---  ------  --------------  ----- \n",
      " 0   Marca   19 non-null     object\n",
      " 1   Modelo  19 non-null     object\n",
      " 2   Año     19 non-null     int64 \n",
      "dtypes: int64(1), object(2)\n",
      "memory usage: 588.0+ bytes\n",
      "Info:\n",
      "None\n"
     ]
    }
   ],
   "source": [
    "print(f'Info:\\n{df_csv.info()}')"
   ]
  },
  {
   "cell_type": "markdown",
   "metadata": {},
   "source": [
    "df.describe(): Muestra estadísticas descriptivas del DataFrame."
   ]
  },
  {
   "cell_type": "code",
   "execution_count": 21,
   "metadata": {},
   "outputs": [
    {
     "name": "stdout",
     "output_type": "stream",
     "text": [
      "Stats:\n",
      "               Año\n",
      "count    19.000000\n",
      "mean   2008.421053\n",
      "std      10.090236\n",
      "min    1980.000000\n",
      "25%    2005.000000\n",
      "50%    2011.000000\n",
      "75%    2014.500000\n",
      "max    2024.000000\n"
     ]
    }
   ],
   "source": [
    "print(f'Stats:\\n{df_csv.describe()}')"
   ]
  },
  {
   "cell_type": "markdown",
   "metadata": {},
   "source": [
    "Seleccion de Datos:"
   ]
  },
  {
   "cell_type": "markdown",
   "metadata": {},
   "source": [
    "df['columna']: Selecciona una columna específica."
   ]
  },
  {
   "cell_type": "code",
   "execution_count": 22,
   "metadata": {},
   "outputs": [
    {
     "name": "stdout",
     "output_type": "stream",
     "text": [
      "Marca:0               BMW\n",
      "1               BMW\n",
      "2               BMW\n",
      "3               BMW\n",
      "4               BMW\n",
      "5     Mercedes-Benz\n",
      "6     Mercedes-Benz\n",
      "7     Mercedes-Benz\n",
      "8     Mercedes-Benz\n",
      "9     Mercedes-Benz\n",
      "10             Audi\n",
      "11             Audi\n",
      "12             Audi\n",
      "13             Audi\n",
      "14             Audi\n",
      "15          Porsche\n",
      "16          Porsche\n",
      "17          Porsche\n",
      "18          Porsche\n",
      "Name: Marca, dtype: object\n"
     ]
    }
   ],
   "source": [
    "print(f'Marca:{df_csv['Marca']}')"
   ]
  },
  {
   "cell_type": "markdown",
   "metadata": {},
   "source": [
    "df.loc[fila, columna]: Selecciona una celda específica."
   ]
  },
  {
   "cell_type": "code",
   "execution_count": 23,
   "metadata": {},
   "outputs": [
    {
     "name": "stdout",
     "output_type": "stream",
     "text": [
      "  Marca   Modelo   Año\n",
      "0   BMW  Serie 3  2003\n"
     ]
    }
   ],
   "source": [
    "print(df_csv.loc[0:0])"
   ]
  },
  {
   "cell_type": "markdown",
   "metadata": {},
   "source": [
    "df.iloc[fila, columna]: Selecciona una celda específica por su posición."
   ]
  },
  {
   "cell_type": "code",
   "execution_count": 24,
   "metadata": {},
   "outputs": [
    {
     "name": "stdout",
     "output_type": "stream",
     "text": [
      "           Marca              Modelo   Año\n",
      "2            BMW                  M4  2018\n",
      "3            BMW                  i4  2015\n",
      "4            BMW  M3 Competition G80  2001\n",
      "5  Mercedes-Benz             Clase C  1980\n"
     ]
    }
   ],
   "source": [
    "print(df_csv.iloc[2:6])"
   ]
  },
  {
   "cell_type": "markdown",
   "metadata": {},
   "source": [
    "Filtrado de Datos:"
   ]
  },
  {
   "cell_type": "markdown",
   "metadata": {},
   "source": [
    "df[df['columna'] > valor]: Filtra filas donde una columna es mayor que un valor."
   ]
  },
  {
   "cell_type": "code",
   "execution_count": 27,
   "metadata": {},
   "outputs": [
    {
     "name": "stdout",
     "output_type": "stream",
     "text": [
      "           Marca   Modelo   Año\n",
      "5  Mercedes-Benz  Clase C  1980\n",
      "6  Mercedes-Benz  Clase E  1990\n"
     ]
    }
   ],
   "source": [
    "print(df_csv[df_csv['Año']<2000])"
   ]
  },
  {
   "cell_type": "markdown",
   "metadata": {},
   "source": [
    "df[df['columna'].isin(lista)]: Filtra filas donde una columna está en una lista."
   ]
  },
  {
   "cell_type": "code",
   "execution_count": 28,
   "metadata": {},
   "outputs": [
    {
     "name": "stdout",
     "output_type": "stream",
     "text": [
      "Empty DataFrame\n",
      "Columns: [Marca, Modelo, Año]\n",
      "Index: []\n"
     ]
    }
   ],
   "source": [
    "print(df_csv[df_csv['Modelo'].isin(['BMW','Audi'])])"
   ]
  },
  {
   "cell_type": "markdown",
   "metadata": {},
   "source": [
    "Agrupacion y Combinacion de Datos:"
   ]
  },
  {
   "cell_type": "markdown",
   "metadata": {},
   "source": [
    "df.groupby('columna'): Agrupa filas por una columna específica"
   ]
  },
  {
   "cell_type": "code",
   "execution_count": 29,
   "metadata": {},
   "outputs": [
    {
     "name": "stdout",
     "output_type": "stream",
     "text": [
      "                  Marca              Modelo\n",
      "Año                                        \n",
      "1980      Mercedes-Benz             Clase C\n",
      "1990      Mercedes-Benz             Clase E\n",
      "2001                BMW  M3 Competition G80\n",
      "2003                BMW             Serie 3\n",
      "2004            Porsche                 911\n",
      "2006            Porsche             Cayenne\n",
      "2007            Porsche              Taycan\n",
      "2008            Porsche               Macan\n",
      "2010               Audi              e-tron\n",
      "2011               Audi                  TT\n",
      "2012               Audi                 RS6\n",
      "2013  Mercedes-BenzAudi            AMG GTQ5\n",
      "2014               Audi                  A4\n",
      "2015   BMWMercedes-Benz               i4GLE\n",
      "2016      Mercedes-Benz             Clase S\n",
      "2018                BMW                  M4\n",
      "2024                BMW                  X5\n"
     ]
    }
   ],
   "source": [
    "print(df_csv.groupby('Año').sum())"
   ]
  },
  {
   "cell_type": "markdown",
   "metadata": {},
   "source": [
    "df.merge(df2, on='columna'): Combina dos DataFrames por una columna común."
   ]
  },
  {
   "cell_type": "code",
   "execution_count": 30,
   "metadata": {},
   "outputs": [
    {
     "name": "stdout",
     "output_type": "stream",
     "text": [
      "  Marca              Modelo   Año Nombre   Ciudad\n",
      "0   BMW  M3 Competition G80  2001   Jean  Neuquen\n"
     ]
    }
   ],
   "source": [
    "df2 = pd.DataFrame({'Nombre':['Ana','Jean', 'Pedro'],\n",
    "                    'Ciudad':['San Rafael', 'Neuquen', 'Madrid'],\n",
    "                    'Año':[2002, 2001, 1970]})\n",
    "df_merged = pd.merge(df_csv,df2, on='Año')\n",
    "print(df_merged)"
   ]
  }
 ],
 "metadata": {
  "kernelspec": {
   "display_name": "Python 3",
   "language": "python",
   "name": "python3"
  },
  "language_info": {
   "codemirror_mode": {
    "name": "ipython",
    "version": 3
   },
   "file_extension": ".py",
   "mimetype": "text/x-python",
   "name": "python",
   "nbconvert_exporter": "python",
   "pygments_lexer": "ipython3",
   "version": "3.12.7"
  }
 },
 "nbformat": 4,
 "nbformat_minor": 2
}
