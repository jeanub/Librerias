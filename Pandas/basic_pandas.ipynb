{
 "cells": [
  {
   "cell_type": "code",
   "execution_count": 4,
   "metadata": {},
   "outputs": [],
   "source": [
    "import pandas as pd"
   ]
  },
  {
   "cell_type": "markdown",
   "metadata": {},
   "source": [
    "Creación de DataFrames\n",
    "Un DataFrame es la estructura de datos fundamental en pandas. Puedes crear uno a partir de un diccionario:"
   ]
  },
  {
   "cell_type": "code",
   "execution_count": 5,
   "metadata": {},
   "outputs": [
    {
     "name": "stdout",
     "output_type": "stream",
     "text": [
      "  Nombre  Edad\n",
      "0   Jean    23\n",
      "1    Ana    22\n",
      "2  Pedro    40\n"
     ]
    }
   ],
   "source": [
    "datos = {'Nombre':['Jean','Ana', 'Pedro'],\n",
    "         'Edad':[23,22,40]}\n",
    "df = pd.DataFrame(datos)\n",
    "print(df)"
   ]
  },
  {
   "cell_type": "markdown",
   "metadata": {},
   "source": [
    "Comandos Basicos:"
   ]
  },
  {
   "cell_type": "markdown",
   "metadata": {},
   "source": [
    "1.head(): Muestra las primeras filas del DataFrame"
   ]
  },
  {
   "cell_type": "code",
   "execution_count": 6,
   "metadata": {},
   "outputs": [
    {
     "name": "stdout",
     "output_type": "stream",
     "text": [
      "  Nombre  Edad\n",
      "0   Jean    23\n",
      "1    Ana    22\n",
      "2  Pedro    40\n"
     ]
    }
   ],
   "source": [
    "print(df.head())"
   ]
  },
  {
   "cell_type": "markdown",
   "metadata": {},
   "source": [
    "2.info(): Muestra informacion sobre el DataFrame."
   ]
  },
  {
   "cell_type": "code",
   "execution_count": 7,
   "metadata": {},
   "outputs": [
    {
     "name": "stdout",
     "output_type": "stream",
     "text": [
      "<class 'pandas.core.frame.DataFrame'>\n",
      "RangeIndex: 3 entries, 0 to 2\n",
      "Data columns (total 2 columns):\n",
      " #   Column  Non-Null Count  Dtype \n",
      "---  ------  --------------  ----- \n",
      " 0   Nombre  3 non-null      object\n",
      " 1   Edad    3 non-null      int64 \n",
      "dtypes: int64(1), object(1)\n",
      "memory usage: 180.0+ bytes\n",
      "None\n"
     ]
    }
   ],
   "source": [
    "print(df.info())"
   ]
  },
  {
   "cell_type": "markdown",
   "metadata": {},
   "source": [
    "3.describe(): Muestra estadisticas basicas del DataFrame"
   ]
  },
  {
   "cell_type": "code",
   "execution_count": 8,
   "metadata": {},
   "outputs": [
    {
     "name": "stdout",
     "output_type": "stream",
     "text": [
      "            Edad\n",
      "count   3.000000\n",
      "mean   28.333333\n",
      "std    10.115994\n",
      "min    22.000000\n",
      "25%    22.500000\n",
      "50%    23.000000\n",
      "75%    31.500000\n",
      "max    40.000000\n"
     ]
    }
   ],
   "source": [
    "print(df.describe())"
   ]
  },
  {
   "cell_type": "markdown",
   "metadata": {},
   "source": [
    "4.columns: Muestra las columnas del DataFrame"
   ]
  },
  {
   "cell_type": "code",
   "execution_count": 9,
   "metadata": {},
   "outputs": [
    {
     "name": "stdout",
     "output_type": "stream",
     "text": [
      "Index(['Nombre', 'Edad'], dtype='object')\n"
     ]
    }
   ],
   "source": [
    "print(df.columns)"
   ]
  },
  {
   "cell_type": "markdown",
   "metadata": {},
   "source": [
    "5.loc[]: Accede a filas y columnas especificas."
   ]
  },
  {
   "cell_type": "code",
   "execution_count": 10,
   "metadata": {},
   "outputs": [
    {
     "name": "stdout",
     "output_type": "stream",
     "text": [
      "Jean\n"
     ]
    }
   ],
   "source": [
    "print(df.loc[0,'Nombre'])"
   ]
  },
  {
   "cell_type": "markdown",
   "metadata": {},
   "source": [
    "6.iloc[]: Accede a filas y columnas por indice."
   ]
  },
  {
   "cell_type": "code",
   "execution_count": 11,
   "metadata": {},
   "outputs": [
    {
     "name": "stdout",
     "output_type": "stream",
     "text": [
      "Jean\n"
     ]
    }
   ],
   "source": [
    "print(df.iloc[0,0])"
   ]
  },
  {
   "cell_type": "markdown",
   "metadata": {},
   "source": [
    "7.groupby(): Agrupa datos por una columna."
   ]
  },
  {
   "cell_type": "code",
   "execution_count": 12,
   "metadata": {},
   "outputs": [
    {
     "name": "stdout",
     "output_type": "stream",
     "text": [
      "Edad\n",
      "22    1\n",
      "23    1\n",
      "40    1\n",
      "dtype: int64\n"
     ]
    }
   ],
   "source": [
    "df_grupo = df.groupby('Edad').size()\n",
    "print(df_grupo)"
   ]
  },
  {
   "cell_type": "markdown",
   "metadata": {},
   "source": [
    "8.merge(): Combina dos DataFrame."
   ]
  },
  {
   "cell_type": "code",
   "execution_count": 13,
   "metadata": {},
   "outputs": [
    {
     "name": "stdout",
     "output_type": "stream",
     "text": [
      "  Nombre  Edad      Ciudad\n",
      "0   Jean    23     Neuquen\n",
      "1    Ana    22  San Rafael\n"
     ]
    }
   ],
   "source": [
    "df2 = pd.DataFrame({'Nombre':['Jean','Ana'],\n",
    "                    'Ciudad':['Neuquen', 'San Rafael']})\n",
    "df_merge = pd.merge(df, df2, on ='Nombre')\n",
    "print(df_merge)"
   ]
  },
  {
   "cell_type": "markdown",
   "metadata": {},
   "source": [
    "9.pivot_table(): Crea una tabla pivot."
   ]
  },
  {
   "cell_type": "code",
   "execution_count": 14,
   "metadata": {},
   "outputs": [
    {
     "name": "stdout",
     "output_type": "stream",
     "text": [
      "Región    Norte    Sur\n",
      "Producto              \n",
      "A         100.0  200.0\n",
      "B           NaN  230.0\n",
      "C          50.0    NaN\n"
     ]
    }
   ],
   "source": [
    "# Creando un DataFrame de ejemplo\n",
    "data = {'Producto': ['A', 'B', 'A', 'C', 'B'],\n",
    "        'Región': ['Norte', 'Sur', 'Sur', 'Norte', 'Sur'],\n",
    "        'Fecha': ['2023-01-01', '2023-02-01', '2023-02-01', '2023-01-01', '2023-03-01'],\n",
    "        'Ventas': [100, 150, 200, 50, 80]}\n",
    "df = pd.DataFrame(data)\n",
    "\n",
    "# Creando la tabla pivote\n",
    "tabla_pivote = pd.pivot_table(df, values='Ventas', index='Producto', columns='Región', aggfunc='sum')\n",
    "\n",
    "print(tabla_pivote)"
   ]
  },
  {
   "cell_type": "markdown",
   "metadata": {},
   "source": [
    "1. Crear un DataFrame con tus datos(Nombre, Edad, Ciudad, etc.)"
   ]
  },
  {
   "cell_type": "code",
   "execution_count": 15,
   "metadata": {},
   "outputs": [],
   "source": [
    "datos = {'Nombre':['Jean'],\n",
    "         'Edad':[22],\n",
    "         'Ciudad':['Neuquen']}\n",
    "df = pd.DataFrame(datos)"
   ]
  },
  {
   "cell_type": "markdown",
   "metadata": {},
   "source": [
    "2. Agrega una columna nueva con la fecha de nacimiento"
   ]
  },
  {
   "cell_type": "code",
   "execution_count": 17,
   "metadata": {},
   "outputs": [
    {
     "name": "stdout",
     "output_type": "stream",
     "text": [
      "  Nombre  Edad   Ciudad Fecha de nacimiento\n",
      "0   Jean    22  Neuquen          11/11/2001\n"
     ]
    }
   ],
   "source": [
    "df['Fecha de nacimiento'] = ['11/11/2001']\n",
    "print(df)"
   ]
  },
  {
   "cell_type": "markdown",
   "metadata": {},
   "source": [
    "3.Calcula la edad promedio de los registros."
   ]
  },
  {
   "cell_type": "code",
   "execution_count": 18,
   "metadata": {},
   "outputs": [
    {
     "name": "stdout",
     "output_type": "stream",
     "text": [
      "22.0\n"
     ]
    }
   ],
   "source": [
    "edad_promedio = df['Edad'].mean()\n",
    "print(edad_promedio)"
   ]
  },
  {
   "cell_type": "markdown",
   "metadata": {},
   "source": [
    "4. Filtra los registros donde la edad sea mayor a 30."
   ]
  },
  {
   "cell_type": "code",
   "execution_count": 19,
   "metadata": {},
   "outputs": [
    {
     "name": "stdout",
     "output_type": "stream",
     "text": [
      "  Nombre  Edad   Ciudad Fecha de nacimiento\n",
      "0   Jean    22  Neuquen          11/11/2001\n"
     ]
    }
   ],
   "source": [
    "df_filtrado = df[df['Edad']>20]\n",
    "print(df_filtrado)"
   ]
  },
  {
   "cell_type": "markdown",
   "metadata": {},
   "source": [
    "5. Ordena los registros por nombre alfabéticamente."
   ]
  },
  {
   "cell_type": "code",
   "execution_count": 20,
   "metadata": {},
   "outputs": [
    {
     "name": "stdout",
     "output_type": "stream",
     "text": [
      "  Nombre  Edad   Ciudad Fecha de nacimiento\n",
      "0   Jean    22  Neuquen          11/11/2001\n"
     ]
    }
   ],
   "source": [
    "df_ordenado = df.sort_values('Nombre')\n",
    "print(df_ordenado)"
   ]
  },
  {
   "cell_type": "markdown",
   "metadata": {},
   "source": [
    "6. Crea un gráfico de barras con la cantidad de registros por ciudad."
   ]
  },
  {
   "cell_type": "code",
   "execution_count": 21,
   "metadata": {},
   "outputs": [
    {
     "data": {
      "text/plain": [
       "<Axes: xlabel='Ciudad'>"
      ]
     },
     "execution_count": 21,
     "metadata": {},
     "output_type": "execute_result"
    },
    {
     "data": {
      "image/png": "[encoded data removed]",
      "text/plain": [
       "<Figure size 640x480 with 1 Axes>"
      ]
     },
     "metadata": {},
     "output_type": "display_data"
    }
   ],
   "source": [
    "df_grupo = df.groupby('Ciudad').size()\n",
    "df_grupo.plot(kind='bar')"
   ]
  }
 ],
 "metadata": {
  "kernelspec": {
   "display_name": "Python 3",
   "language": "python",
   "name": "python3"
  },
  "language_info": {
   "codemirror_mode": {
    "name": "ipython",
    "version": 3
   },
   "file_extension": ".py",
   "mimetype": "text/x-python",
   "name": "python",
   "nbconvert_exporter": "python",
   "pygments_lexer": "ipython3",
   "version": "3.12.6"
  }
 },
 "nbformat": 4,
 "nbformat_minor": 2
}
